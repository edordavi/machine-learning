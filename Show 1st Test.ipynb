{
 "cells": [
  {
   "cell_type": "code",
   "execution_count": 2,
   "metadata": {},
   "outputs": [],
   "source": [
    "import pandas as pd\n",
    "import matplotlib.pyplot as plt"
   ]
  },
  {
   "cell_type": "code",
   "execution_count": 22,
   "metadata": {},
   "outputs": [],
   "source": [
    "data = pd.read_csv(\"auto-mpg.csv\")\n",
    "dataGrouped = data.groupby(by=\"model year\", as_index=False)\n",
    "auto_mean = dataGrouped.mean()"
   ]
  },
  {
   "cell_type": "code",
   "execution_count": 28,
   "metadata": {},
   "outputs": [],
   "source": [
    "auto_mean = auto_mean.sort_values(by='mpg',ascending=True)"
   ]
  },
  {
   "cell_type": "code",
   "execution_count": 42,
   "metadata": {},
   "outputs": [
    {
     "name": "stdout",
     "output_type": "stream",
     "text": [
      "The 73 Year was the one with the less mpg (17.1)\n"
     ]
    }
   ],
   "source": [
    "print('The {} Year was the one with the less mpg ({})'.format(auto_mean.iloc[0,0],auto_mean.iloc[0,1]))"
   ]
  }
 ],
 "metadata": {
  "interpreter": {
   "hash": "916616cbaf4d91a3ac83ad29b7a4c2cd2bb1a79f826ceabb09b8440bdfb4219e"
  },
  "kernelspec": {
   "display_name": "Python 3.8.11 64-bit ('mludemy': conda)",
   "name": "python3"
  },
  "language_info": {
   "codemirror_mode": {
    "name": "ipython",
    "version": 3
   },
   "file_extension": ".py",
   "mimetype": "text/x-python",
   "name": "python",
   "nbconvert_exporter": "python",
   "pygments_lexer": "ipython3",
   "version": "3.8.11"
  },
  "orig_nbformat": 4
 },
 "nbformat": 4,
 "nbformat_minor": 2
}
