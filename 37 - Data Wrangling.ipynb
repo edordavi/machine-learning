{
 "cells": [
  {
   "cell_type": "code",
   "execution_count": null,
   "source": [
    "import pandas as pd"
   ],
   "outputs": [],
   "metadata": {}
  },
  {
   "cell_type": "code",
   "execution_count": null,
   "source": [
    "data = pd.read_csv(\"../python-ml-course-master/datasets/customer-churn-model/Customer Churn Model.txt\")"
   ],
   "outputs": [],
   "metadata": {}
  },
  {
   "cell_type": "code",
   "execution_count": null,
   "source": [
    "data.head()"
   ],
   "outputs": [],
   "metadata": {}
  },
  {
   "cell_type": "markdown",
   "source": [
    "###Crear un subconjunto de datos"
   ],
   "metadata": {}
  },
  {
   "cell_type": "code",
   "execution_count": null,
   "source": [
    "account_length = data[\"Account Length\"]\r\n",
    "account_length.head()"
   ],
   "outputs": [],
   "metadata": {}
  },
  {
   "cell_type": "code",
   "execution_count": null,
   "source": [
    "subset = data[[\"Account Length\",\"Phone\",\"Eve Charge\",\"Day Calls\"]]\r\n",
    "subset.head()"
   ],
   "outputs": [],
   "metadata": {}
  },
  {
   "cell_type": "code",
   "execution_count": null,
   "source": [
    "desired_columns = [\"Account Length\",\"Phone\",\"Eve Charge\",\"Night Calls\"]\r\n",
    "subset = data[desired_columns]\r\n",
    "subset.head()"
   ],
   "outputs": [],
   "metadata": {}
  },
  {
   "cell_type": "code",
   "execution_count": null,
   "source": [
    "desired_columns = [\"Account Length\",\"VMail Message\",\"Day Calls\"]\r\n",
    "desired_columns"
   ],
   "outputs": [],
   "metadata": {}
  },
  {
   "cell_type": "code",
   "execution_count": 61,
   "source": [
    "all_columns_list = data.columns.values.tolist()\r\n",
    "all_columns_list"
   ],
   "outputs": [
    {
     "output_type": "execute_result",
     "data": {
      "text/plain": [
       "['State',\n",
       " 'Account Length',\n",
       " 'Area Code',\n",
       " 'Phone',\n",
       " \"Int'l Plan\",\n",
       " 'VMail Plan',\n",
       " 'VMail Message',\n",
       " 'Day Mins',\n",
       " 'Day Calls',\n",
       " 'Day Charge',\n",
       " 'Eve Mins',\n",
       " 'Eve Calls',\n",
       " 'Eve Charge',\n",
       " 'Night Mins',\n",
       " 'Night Calls',\n",
       " 'Night Charge',\n",
       " 'Intl Mins',\n",
       " 'Intl Calls',\n",
       " 'Intl Charge',\n",
       " 'CustServ Calls',\n",
       " 'Churn?']"
      ]
     },
     "metadata": {},
     "execution_count": 61
    }
   ],
   "metadata": {}
  },
  {
   "cell_type": "code",
   "execution_count": null,
   "source": [
    "sublist = [x for x in all_columns_list if x not in desired_columns]\r\n",
    "sublist"
   ],
   "outputs": [],
   "metadata": {}
  },
  {
   "cell_type": "code",
   "execution_count": null,
   "source": [
    "subset = data[sublist]\r\n",
    "subset.head()"
   ],
   "outputs": [],
   "metadata": {}
  },
  {
   "cell_type": "code",
   "execution_count": null,
   "source": [
    "a = set(desired_columns)\r\n",
    "b = set(all_columns_list)\r\n",
    "sublist = b-a\r\n",
    "sublist = list(sublist)\r\n",
    "\r\n",
    "sublist"
   ],
   "outputs": [],
   "metadata": {}
  },
  {
   "cell_type": "code",
   "execution_count": null,
   "source": [
    "data[:1]"
   ],
   "outputs": [],
   "metadata": {}
  },
  {
   "cell_type": "code",
   "execution_count": null,
   "source": [
    "##### Usuarios con Total Mins > 300\r\n",
    "\r\n",
    "data1 = data[data[\"Day Mins\"]>300]\r\n",
    "\r\n",
    "data1.shape"
   ],
   "outputs": [],
   "metadata": {}
  },
  {
   "cell_type": "code",
   "execution_count": null,
   "source": [
    "###NEW YORK\r\n",
    "data2 = data[data[\"State\"]==\"NY\"]\r\n",
    "\r\n",
    "data2.shape"
   ],
   "outputs": [],
   "metadata": {}
  },
  {
   "cell_type": "code",
   "execution_count": null,
   "source": [
    "#### AND\r\n",
    "data3 = data[(data[\"State\"]==\"NY\") & (data[\"Day Mins\"]>300)]\r\n",
    "\r\n",
    "data3.shape"
   ],
   "outputs": [],
   "metadata": {}
  },
  {
   "cell_type": "code",
   "execution_count": null,
   "source": [
    "data4 = data[((data[\"State\"]==\"NY\") | (data[\"Day Mins\"]>300)) & (data[\"Day Charge\"]>26)]\r\n",
    "\r\n",
    "data4.shape"
   ],
   "outputs": [],
   "metadata": {}
  },
  {
   "cell_type": "code",
   "execution_count": 51,
   "source": [
    "data5 = data[(data[\"Day Charge\"] < data[\"Day Mins\"]) ]\r\n",
    "\r\n",
    "data5.shape"
   ],
   "outputs": [
    {
     "output_type": "execute_result",
     "data": {
      "text/plain": [
       "(3331, 21)"
      ]
     },
     "metadata": {},
     "execution_count": 51
    }
   ],
   "metadata": {}
  },
  {
   "cell_type": "code",
   "execution_count": 53,
   "source": [
    "##Minutos de dia, de noche y long de los primeros 50 individuos\r\n",
    "subset_first_50 = data[[\"Day Mins\", 'Night Mins', 'Account Length']][:50]\r\n",
    "subset_first_50.head()"
   ],
   "outputs": [
    {
     "output_type": "execute_result",
     "data": {
      "text/html": [
       "<div>\n",
       "<style scoped>\n",
       "    .dataframe tbody tr th:only-of-type {\n",
       "        vertical-align: middle;\n",
       "    }\n",
       "\n",
       "    .dataframe tbody tr th {\n",
       "        vertical-align: top;\n",
       "    }\n",
       "\n",
       "    .dataframe thead th {\n",
       "        text-align: right;\n",
       "    }\n",
       "</style>\n",
       "<table border=\"1\" class=\"dataframe\">\n",
       "  <thead>\n",
       "    <tr style=\"text-align: right;\">\n",
       "      <th></th>\n",
       "      <th>Day Mins</th>\n",
       "      <th>Night Mins</th>\n",
       "      <th>Account Length</th>\n",
       "    </tr>\n",
       "  </thead>\n",
       "  <tbody>\n",
       "    <tr>\n",
       "      <th>0</th>\n",
       "      <td>265.1</td>\n",
       "      <td>244.7</td>\n",
       "      <td>128</td>\n",
       "    </tr>\n",
       "    <tr>\n",
       "      <th>1</th>\n",
       "      <td>161.6</td>\n",
       "      <td>254.4</td>\n",
       "      <td>107</td>\n",
       "    </tr>\n",
       "    <tr>\n",
       "      <th>2</th>\n",
       "      <td>243.4</td>\n",
       "      <td>162.6</td>\n",
       "      <td>137</td>\n",
       "    </tr>\n",
       "    <tr>\n",
       "      <th>3</th>\n",
       "      <td>299.4</td>\n",
       "      <td>196.9</td>\n",
       "      <td>84</td>\n",
       "    </tr>\n",
       "    <tr>\n",
       "      <th>4</th>\n",
       "      <td>166.7</td>\n",
       "      <td>186.9</td>\n",
       "      <td>75</td>\n",
       "    </tr>\n",
       "  </tbody>\n",
       "</table>\n",
       "</div>"
      ],
      "text/plain": [
       "   Day Mins  Night Mins  Account Length\n",
       "0     265.1       244.7             128\n",
       "1     161.6       254.4             107\n",
       "2     243.4       162.6             137\n",
       "3     299.4       196.9              84\n",
       "4     166.7       186.9              75"
      ]
     },
     "metadata": {},
     "execution_count": 53
    }
   ],
   "metadata": {}
  },
  {
   "cell_type": "code",
   "execution_count": 57,
   "source": [
    "data.iloc[1:10, 3:6] ## Primeras 10 filas, columnas de la 3 a la 6"
   ],
   "outputs": [
    {
     "output_type": "execute_result",
     "data": {
      "text/html": [
       "<div>\n",
       "<style scoped>\n",
       "    .dataframe tbody tr th:only-of-type {\n",
       "        vertical-align: middle;\n",
       "    }\n",
       "\n",
       "    .dataframe tbody tr th {\n",
       "        vertical-align: top;\n",
       "    }\n",
       "\n",
       "    .dataframe thead th {\n",
       "        text-align: right;\n",
       "    }\n",
       "</style>\n",
       "<table border=\"1\" class=\"dataframe\">\n",
       "  <thead>\n",
       "    <tr style=\"text-align: right;\">\n",
       "      <th></th>\n",
       "      <th>Phone</th>\n",
       "      <th>Int'l Plan</th>\n",
       "      <th>VMail Plan</th>\n",
       "    </tr>\n",
       "  </thead>\n",
       "  <tbody>\n",
       "    <tr>\n",
       "      <th>1</th>\n",
       "      <td>371-7191</td>\n",
       "      <td>no</td>\n",
       "      <td>yes</td>\n",
       "    </tr>\n",
       "    <tr>\n",
       "      <th>2</th>\n",
       "      <td>358-1921</td>\n",
       "      <td>no</td>\n",
       "      <td>no</td>\n",
       "    </tr>\n",
       "    <tr>\n",
       "      <th>3</th>\n",
       "      <td>375-9999</td>\n",
       "      <td>yes</td>\n",
       "      <td>no</td>\n",
       "    </tr>\n",
       "    <tr>\n",
       "      <th>4</th>\n",
       "      <td>330-6626</td>\n",
       "      <td>yes</td>\n",
       "      <td>no</td>\n",
       "    </tr>\n",
       "    <tr>\n",
       "      <th>5</th>\n",
       "      <td>391-8027</td>\n",
       "      <td>yes</td>\n",
       "      <td>no</td>\n",
       "    </tr>\n",
       "    <tr>\n",
       "      <th>6</th>\n",
       "      <td>355-9993</td>\n",
       "      <td>no</td>\n",
       "      <td>yes</td>\n",
       "    </tr>\n",
       "    <tr>\n",
       "      <th>7</th>\n",
       "      <td>329-9001</td>\n",
       "      <td>yes</td>\n",
       "      <td>no</td>\n",
       "    </tr>\n",
       "    <tr>\n",
       "      <th>8</th>\n",
       "      <td>335-4719</td>\n",
       "      <td>no</td>\n",
       "      <td>no</td>\n",
       "    </tr>\n",
       "    <tr>\n",
       "      <th>9</th>\n",
       "      <td>330-8173</td>\n",
       "      <td>yes</td>\n",
       "      <td>yes</td>\n",
       "    </tr>\n",
       "  </tbody>\n",
       "</table>\n",
       "</div>"
      ],
      "text/plain": [
       "      Phone Int'l Plan VMail Plan\n",
       "1  371-7191         no        yes\n",
       "2  358-1921         no         no\n",
       "3  375-9999        yes         no\n",
       "4  330-6626        yes         no\n",
       "5  391-8027        yes         no\n",
       "6  355-9993         no        yes\n",
       "7  329-9001        yes         no\n",
       "8  335-4719         no         no\n",
       "9  330-8173        yes        yes"
      ]
     },
     "metadata": {},
     "execution_count": 57
    }
   ],
   "metadata": {}
  },
  {
   "cell_type": "code",
   "execution_count": 58,
   "source": [
    "data.iloc[1:10, [2,5,7]] "
   ],
   "outputs": [
    {
     "output_type": "execute_result",
     "data": {
      "text/html": [
       "<div>\n",
       "<style scoped>\n",
       "    .dataframe tbody tr th:only-of-type {\n",
       "        vertical-align: middle;\n",
       "    }\n",
       "\n",
       "    .dataframe tbody tr th {\n",
       "        vertical-align: top;\n",
       "    }\n",
       "\n",
       "    .dataframe thead th {\n",
       "        text-align: right;\n",
       "    }\n",
       "</style>\n",
       "<table border=\"1\" class=\"dataframe\">\n",
       "  <thead>\n",
       "    <tr style=\"text-align: right;\">\n",
       "      <th></th>\n",
       "      <th>Area Code</th>\n",
       "      <th>VMail Plan</th>\n",
       "      <th>Day Mins</th>\n",
       "    </tr>\n",
       "  </thead>\n",
       "  <tbody>\n",
       "    <tr>\n",
       "      <th>1</th>\n",
       "      <td>415</td>\n",
       "      <td>yes</td>\n",
       "      <td>161.6</td>\n",
       "    </tr>\n",
       "    <tr>\n",
       "      <th>2</th>\n",
       "      <td>415</td>\n",
       "      <td>no</td>\n",
       "      <td>243.4</td>\n",
       "    </tr>\n",
       "    <tr>\n",
       "      <th>3</th>\n",
       "      <td>408</td>\n",
       "      <td>no</td>\n",
       "      <td>299.4</td>\n",
       "    </tr>\n",
       "    <tr>\n",
       "      <th>4</th>\n",
       "      <td>415</td>\n",
       "      <td>no</td>\n",
       "      <td>166.7</td>\n",
       "    </tr>\n",
       "    <tr>\n",
       "      <th>5</th>\n",
       "      <td>510</td>\n",
       "      <td>no</td>\n",
       "      <td>223.4</td>\n",
       "    </tr>\n",
       "    <tr>\n",
       "      <th>6</th>\n",
       "      <td>510</td>\n",
       "      <td>yes</td>\n",
       "      <td>218.2</td>\n",
       "    </tr>\n",
       "    <tr>\n",
       "      <th>7</th>\n",
       "      <td>415</td>\n",
       "      <td>no</td>\n",
       "      <td>157.0</td>\n",
       "    </tr>\n",
       "    <tr>\n",
       "      <th>8</th>\n",
       "      <td>408</td>\n",
       "      <td>no</td>\n",
       "      <td>184.5</td>\n",
       "    </tr>\n",
       "    <tr>\n",
       "      <th>9</th>\n",
       "      <td>415</td>\n",
       "      <td>yes</td>\n",
       "      <td>258.6</td>\n",
       "    </tr>\n",
       "  </tbody>\n",
       "</table>\n",
       "</div>"
      ],
      "text/plain": [
       "   Area Code VMail Plan  Day Mins\n",
       "1        415        yes     161.6\n",
       "2        415         no     243.4\n",
       "3        408         no     299.4\n",
       "4        415         no     166.7\n",
       "5        510         no     223.4\n",
       "6        510        yes     218.2\n",
       "7        415         no     157.0\n",
       "8        408         no     184.5\n",
       "9        415        yes     258.6"
      ]
     },
     "metadata": {},
     "execution_count": 58
    }
   ],
   "metadata": {}
  },
  {
   "cell_type": "code",
   "execution_count": 59,
   "source": [
    "data.iloc[[1,5,8,36], [2,5,7]] "
   ],
   "outputs": [
    {
     "output_type": "execute_result",
     "data": {
      "text/html": [
       "<div>\n",
       "<style scoped>\n",
       "    .dataframe tbody tr th:only-of-type {\n",
       "        vertical-align: middle;\n",
       "    }\n",
       "\n",
       "    .dataframe tbody tr th {\n",
       "        vertical-align: top;\n",
       "    }\n",
       "\n",
       "    .dataframe thead th {\n",
       "        text-align: right;\n",
       "    }\n",
       "</style>\n",
       "<table border=\"1\" class=\"dataframe\">\n",
       "  <thead>\n",
       "    <tr style=\"text-align: right;\">\n",
       "      <th></th>\n",
       "      <th>Area Code</th>\n",
       "      <th>VMail Plan</th>\n",
       "      <th>Day Mins</th>\n",
       "    </tr>\n",
       "  </thead>\n",
       "  <tbody>\n",
       "    <tr>\n",
       "      <th>1</th>\n",
       "      <td>415</td>\n",
       "      <td>yes</td>\n",
       "      <td>161.6</td>\n",
       "    </tr>\n",
       "    <tr>\n",
       "      <th>5</th>\n",
       "      <td>510</td>\n",
       "      <td>no</td>\n",
       "      <td>223.4</td>\n",
       "    </tr>\n",
       "    <tr>\n",
       "      <th>8</th>\n",
       "      <td>408</td>\n",
       "      <td>no</td>\n",
       "      <td>184.5</td>\n",
       "    </tr>\n",
       "    <tr>\n",
       "      <th>36</th>\n",
       "      <td>408</td>\n",
       "      <td>yes</td>\n",
       "      <td>146.3</td>\n",
       "    </tr>\n",
       "  </tbody>\n",
       "</table>\n",
       "</div>"
      ],
      "text/plain": [
       "    Area Code VMail Plan  Day Mins\n",
       "1         415        yes     161.6\n",
       "5         510         no     223.4\n",
       "8         408         no     184.5\n",
       "36        408        yes     146.3"
      ]
     },
     "metadata": {},
     "execution_count": 59
    }
   ],
   "metadata": {}
  },
  {
   "cell_type": "code",
   "execution_count": 66,
   "source": [
    "data.loc[[1,5,8,36], [\"Area Code\", \"VMail Plan\", \"Day Mins\"]] "
   ],
   "outputs": [
    {
     "output_type": "execute_result",
     "data": {
      "text/html": [
       "<div>\n",
       "<style scoped>\n",
       "    .dataframe tbody tr th:only-of-type {\n",
       "        vertical-align: middle;\n",
       "    }\n",
       "\n",
       "    .dataframe tbody tr th {\n",
       "        vertical-align: top;\n",
       "    }\n",
       "\n",
       "    .dataframe thead th {\n",
       "        text-align: right;\n",
       "    }\n",
       "</style>\n",
       "<table border=\"1\" class=\"dataframe\">\n",
       "  <thead>\n",
       "    <tr style=\"text-align: right;\">\n",
       "      <th></th>\n",
       "      <th>Area Code</th>\n",
       "      <th>VMail Plan</th>\n",
       "      <th>Day Mins</th>\n",
       "    </tr>\n",
       "  </thead>\n",
       "  <tbody>\n",
       "    <tr>\n",
       "      <th>1</th>\n",
       "      <td>415</td>\n",
       "      <td>yes</td>\n",
       "      <td>161.6</td>\n",
       "    </tr>\n",
       "    <tr>\n",
       "      <th>5</th>\n",
       "      <td>510</td>\n",
       "      <td>no</td>\n",
       "      <td>223.4</td>\n",
       "    </tr>\n",
       "    <tr>\n",
       "      <th>8</th>\n",
       "      <td>408</td>\n",
       "      <td>no</td>\n",
       "      <td>184.5</td>\n",
       "    </tr>\n",
       "    <tr>\n",
       "      <th>36</th>\n",
       "      <td>408</td>\n",
       "      <td>yes</td>\n",
       "      <td>146.3</td>\n",
       "    </tr>\n",
       "  </tbody>\n",
       "</table>\n",
       "</div>"
      ],
      "text/plain": [
       "    Area Code VMail Plan  Day Mins\n",
       "1         415        yes     161.6\n",
       "5         510         no     223.4\n",
       "8         408         no     184.5\n",
       "36        408        yes     146.3"
      ]
     },
     "metadata": {},
     "execution_count": 66
    }
   ],
   "metadata": {}
  },
  {
   "cell_type": "code",
   "execution_count": 69,
   "source": [
    "data[\"Total Mins\"] = data[\"Day Mins\"] + data[\"Night Mins\"] + data[\"Eve Mins\"]\r\n",
    "\r\n",
    "data[\"Total Mins\"].head()"
   ],
   "outputs": [
    {
     "output_type": "execute_result",
     "data": {
      "text/plain": [
       "0    707.2\n",
       "1    611.5\n",
       "2    527.2\n",
       "3    558.2\n",
       "4    501.9\n",
       "Name: Total Mins, dtype: float64"
      ]
     },
     "metadata": {},
     "execution_count": 69
    }
   ],
   "metadata": {}
  },
  {
   "cell_type": "code",
   "execution_count": 70,
   "source": [
    "data[\"Total Calls\"] = data[\"Day Calls\"] + data[\"Night Calls\"] + data[\"Eve Calls\"]\r\n",
    "\r\n",
    "data[\"Total Calls\"].head()"
   ],
   "outputs": [
    {
     "output_type": "execute_result",
     "data": {
      "text/plain": [
       "0    300\n",
       "1    329\n",
       "2    328\n",
       "3    248\n",
       "4    356\n",
       "Name: Total Calls, dtype: int64"
      ]
     },
     "metadata": {},
     "execution_count": 70
    }
   ],
   "metadata": {}
  }
 ],
 "metadata": {
  "orig_nbformat": 4,
  "language_info": {
   "name": "python",
   "version": "3.7.11",
   "mimetype": "text/x-python",
   "codemirror_mode": {
    "name": "ipython",
    "version": 3
   },
   "pygments_lexer": "ipython3",
   "nbconvert_exporter": "python",
   "file_extension": ".py"
  },
  "kernelspec": {
   "name": "python3",
   "display_name": "Python 3.7.11 64-bit ('mludemy': conda)"
  },
  "interpreter": {
   "hash": "15d3d15116ca755edb791b2d102bb3589b9394815f6280cfeed86e997f5366e2"
  }
 },
 "nbformat": 4,
 "nbformat_minor": 2
}